{
 "cells": [
  {
   "cell_type": "code",
   "execution_count": null,
   "metadata": {},
   "outputs": [],
   "source": [
    "import numpy as np\n",
    "import skfuzzy as fuzz\n",
    "from skfuzzy import control as ctrl\n",
    "import pandas as pd"
   ]
  },
  {
   "cell_type": "code",
   "execution_count": null,
   "metadata": {},
   "outputs": [],
   "source": [
    "# importing data\n",
    "data = pd.read_csv(\"heart.csv\")\n",
    "data.head()"
   ]
  },
  {
   "cell_type": "code",
   "execution_count": null,
   "metadata": {},
   "outputs": [],
   "source": [
    "# print(data['chol'].min())\n",
    "# data['chol'].max()"
   ]
  },
  {
   "cell_type": "code",
   "execution_count": null,
   "metadata": {},
   "outputs": [],
   "source": [
    "# initialising the input for the fuzzy\n",
    "age = ctrl.Antecedent(np.arange(25, 81, 5), 'age')\n",
    "sex = ctrl.Antecedent(np.arange(0 , 2, 1), 'sex')\n",
    "cp = ctrl.Antecedent(np.arange(0, 4, 1), 'cp')\n",
    "trestbps = ctrl.Antecedent(np.arange(90, 201, 5), 'trestbps')\n",
    "chol = ctrl.Antecedent(np.arange(125, 565, 5), 'chol')\n",
    "\n",
    "# initialising the output for the fuzzy\n",
    "presence = ctrl.Consequent(np.arange(0,2,1), 'presence')\n"
   ]
  },
  {
   "cell_type": "code",
   "execution_count": null,
   "metadata": {},
   "outputs": [],
   "source": [
    "# dont know how it actually works \n",
    "age.automf(3)\n",
    "cp.automf(3)\n",
    "trestbps.automf(3)\n",
    "chol.automf(3)\n",
    "\n",
    "presence.automf(3)"
   ]
  },
  {
   "cell_type": "code",
   "execution_count": null,
   "metadata": {},
   "outputs": [],
   "source": [
    "# age.view()"
   ]
  },
  {
   "cell_type": "code",
   "execution_count": null,
   "metadata": {},
   "outputs": [],
   "source": [
    "# initialising the rules for the output function\n",
    "rule1 = ctrl.Rule(age['poor'] | cp['poor'] | trestbps['poor'] | chol['poor'], presence['poor'])\n",
    "rule2 = ctrl.Rule(age['average'] | cp['average'] | trestbps['average'] | chol['average'], presence['average'])\n",
    "rule3 = ctrl.Rule(age['good'] | cp['good'] | trestbps['good'] | chol['good'], presence['good'])\n"
   ]
  },
  {
   "cell_type": "code",
   "execution_count": null,
   "metadata": {},
   "outputs": [],
   "source": [
    "# using the rule to simulate the data\n",
    "result_ctrl = ctrl.ControlSystem([rule1, rule2, rule3])\n",
    "result = ctrl.ControlSystemSimulation(result_ctrl)"
   ]
  },
  {
   "cell_type": "code",
   "execution_count": null,
   "metadata": {},
   "outputs": [],
   "source": [
    "# taking the inputs \n",
    "result.input['age'] = 60\n",
    "result.input['cp'] = 2\n",
    "result.input['trestbps'] = 124\n",
    "result.input['chol'] = 250\n",
    "\n",
    "#computing output\n",
    "result.compute()"
   ]
  },
  {
   "cell_type": "code",
   "execution_count": null,
   "metadata": {},
   "outputs": [],
   "source": [
    "the final result\n",
    "result.output"
   ]
  }
 ],
 "metadata": {
  "interpreter": {
   "hash": "916dbcbb3f70747c44a77c7bcd40155683ae19c65e1c03b4aa3499c5328201f1"
  },
  "kernelspec": {
   "display_name": "Python 3.9.5 64-bit",
   "name": "python3"
  },
  "language_info": {
   "codemirror_mode": {
    "name": "ipython",
    "version": 3
   },
   "file_extension": ".py",
   "mimetype": "text/x-python",
   "name": "python",
   "nbconvert_exporter": "python",
   "pygments_lexer": "ipython3",
   "version": "3.9.5"
  },
  "orig_nbformat": 4
 },
 "nbformat": 4,
 "nbformat_minor": 2
}
